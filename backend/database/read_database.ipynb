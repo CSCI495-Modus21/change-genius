{
 "cells": [
  {
   "cell_type": "markdown",
   "id": "0679a099",
   "metadata": {},
   "source": [
    "# Reading change_requests.db into Pandas DataFrames\n",
    "This notebook connects to the `change_requests.db` SQLite database, explores its tables, and loads them into Pandas DataFrames."
   ]
  },
  {
   "cell_type": "code",
   "execution_count": 8,
   "id": "3ec23670",
   "metadata": {},
   "outputs": [],
   "source": [
    "import sqlite3\n",
    "import pandas as pd"
   ]
  },
  {
   "cell_type": "code",
   "execution_count": 9,
   "id": "c029d147",
   "metadata": {},
   "outputs": [],
   "source": [
    "conn = sqlite3.connect('change_requests.db')\n",
    "cursor = conn.cursor()"
   ]
  },
  {
   "cell_type": "code",
   "execution_count": 10,
   "id": "3e1820ba",
   "metadata": {},
   "outputs": [
    {
     "name": "stdout",
     "output_type": "stream",
     "text": [
      "Tables in the database:\n",
      "change_requests\n",
      "sqlite_sequence\n"
     ]
    }
   ],
   "source": [
    "cursor.execute(\"SELECT name FROM sqlite_master WHERE type='table';\")\n",
    "tables = cursor.fetchall()\n",
    "\n",
    "print(\"Tables in the database:\")\n",
    "for table in tables:\n",
    "    print(table[0])"
   ]
  },
  {
   "cell_type": "code",
   "execution_count": 11,
   "id": "e2e14b7c",
   "metadata": {},
   "outputs": [
    {
     "name": "stdout",
     "output_type": "stream",
     "text": [
      "\n",
      "Loading table: change_requests\n",
      "Preview of change_requests:\n"
     ]
    },
    {
     "data": {
      "text/html": [
       "<div>\n",
       "<style scoped>\n",
       "    .dataframe tbody tr th:only-of-type {\n",
       "        vertical-align: middle;\n",
       "    }\n",
       "\n",
       "    .dataframe tbody tr th {\n",
       "        vertical-align: top;\n",
       "    }\n",
       "\n",
       "    .dataframe thead th {\n",
       "        text-align: right;\n",
       "    }\n",
       "</style>\n",
       "<table border=\"1\" class=\"dataframe\">\n",
       "  <thead>\n",
       "    <tr style=\"text-align: right;\">\n",
       "      <th></th>\n",
       "      <th>id</th>\n",
       "      <th>project_name</th>\n",
       "      <th>change_number</th>\n",
       "      <th>requested_by</th>\n",
       "      <th>date_of_request</th>\n",
       "      <th>presented_to</th>\n",
       "      <th>change_name</th>\n",
       "      <th>description</th>\n",
       "      <th>reason</th>\n",
       "      <th>cost_items</th>\n",
       "      <th>category</th>\n",
       "      <th>timestamp</th>\n",
       "    </tr>\n",
       "  </thead>\n",
       "  <tbody>\n",
       "    <tr>\n",
       "      <th>0</th>\n",
       "      <td>1</td>\n",
       "      <td>Project 1</td>\n",
       "      <td>CR-1277</td>\n",
       "      <td>Josh Boquiren</td>\n",
       "      <td>2025-04-01</td>\n",
       "      <td>CSCI 495</td>\n",
       "      <td>OS Update</td>\n",
       "      <td>User needs machine's operating system updated ...</td>\n",
       "      <td>Hardware compatibility expired</td>\n",
       "      <td>[{\"item_description\": \"\", \"hours_reduction\": 0...</td>\n",
       "      <td>software issue</td>\n",
       "      <td>2025-04-01 17:20:14</td>\n",
       "    </tr>\n",
       "    <tr>\n",
       "      <th>1</th>\n",
       "      <td>2</td>\n",
       "      <td>Project 2</td>\n",
       "      <td>CR-1699</td>\n",
       "      <td>Michael Scott</td>\n",
       "      <td>2025-04-01</td>\n",
       "      <td>Dunder Mifflin</td>\n",
       "      <td></td>\n",
       "      <td>Need more paper.</td>\n",
       "      <td>Ran out of paper.</td>\n",
       "      <td>[{\"item_description\": \"\", \"hours_reduction\": 0...</td>\n",
       "      <td>other</td>\n",
       "      <td>2025-04-01 17:22:38</td>\n",
       "    </tr>\n",
       "    <tr>\n",
       "      <th>2</th>\n",
       "      <td>3</td>\n",
       "      <td>Project 3</td>\n",
       "      <td>CR-1523</td>\n",
       "      <td>Billy Joe McGuffry</td>\n",
       "      <td>2025-04-01</td>\n",
       "      <td></td>\n",
       "      <td>OS Change</td>\n",
       "      <td>User would like to change operating systems fr...</td>\n",
       "      <td>Windows has too much bloatware</td>\n",
       "      <td>[{\"item_description\": \"\", \"hours_reduction\": 0...</td>\n",
       "      <td>software issue</td>\n",
       "      <td>2025-04-01 17:25:22</td>\n",
       "    </tr>\n",
       "    <tr>\n",
       "      <th>3</th>\n",
       "      <td>4</td>\n",
       "      <td>Project 4</td>\n",
       "      <td>CR-1160</td>\n",
       "      <td>Some Body</td>\n",
       "      <td>2025-04-01</td>\n",
       "      <td>Some Other Body</td>\n",
       "      <td></td>\n",
       "      <td>Need to migrate data from hard drives to cloud...</td>\n",
       "      <td></td>\n",
       "      <td>[{\"item_description\": \"\", \"hours_reduction\": 0...</td>\n",
       "      <td>hardware issue</td>\n",
       "      <td>2025-04-01 17:26:51</td>\n",
       "    </tr>\n",
       "    <tr>\n",
       "      <th>4</th>\n",
       "      <td>5</td>\n",
       "      <td>Project 5</td>\n",
       "      <td>CR-1940</td>\n",
       "      <td>Macy Denlinger</td>\n",
       "      <td>2025-04-01</td>\n",
       "      <td></td>\n",
       "      <td>New Router</td>\n",
       "      <td>User needs a new router setup.</td>\n",
       "      <td></td>\n",
       "      <td>[{\"item_description\": \"\", \"hours_reduction\": 0...</td>\n",
       "      <td>hardware issue</td>\n",
       "      <td>2025-04-01 17:28:32</td>\n",
       "    </tr>\n",
       "    <tr>\n",
       "      <th>5</th>\n",
       "      <td>6</td>\n",
       "      <td>Project 1</td>\n",
       "      <td>CR-1312</td>\n",
       "      <td>Josh Boquiren</td>\n",
       "      <td>2025-04-01</td>\n",
       "      <td></td>\n",
       "      <td></td>\n",
       "      <td>User needs to move to a different office.</td>\n",
       "      <td>Sandra keeps stealing my Snickers.</td>\n",
       "      <td>[{\"item_description\": \"\", \"hours_reduction\": 0...</td>\n",
       "      <td>personnel issue</td>\n",
       "      <td>2025-04-01 17:30:59</td>\n",
       "    </tr>\n",
       "  </tbody>\n",
       "</table>\n",
       "</div>"
      ],
      "text/plain": [
       "   id project_name change_number        requested_by date_of_request  \\\n",
       "0   1    Project 1       CR-1277       Josh Boquiren      2025-04-01   \n",
       "1   2    Project 2       CR-1699       Michael Scott      2025-04-01   \n",
       "2   3    Project 3       CR-1523  Billy Joe McGuffry      2025-04-01   \n",
       "3   4    Project 4       CR-1160           Some Body      2025-04-01   \n",
       "4   5    Project 5       CR-1940      Macy Denlinger      2025-04-01   \n",
       "5   6    Project 1       CR-1312       Josh Boquiren      2025-04-01   \n",
       "\n",
       "      presented_to change_name  \\\n",
       "0         CSCI 495   OS Update   \n",
       "1   Dunder Mifflin               \n",
       "2                    OS Change   \n",
       "3  Some Other Body               \n",
       "4                   New Router   \n",
       "5                                \n",
       "\n",
       "                                         description  \\\n",
       "0  User needs machine's operating system updated ...   \n",
       "1                                   Need more paper.   \n",
       "2  User would like to change operating systems fr...   \n",
       "3  Need to migrate data from hard drives to cloud...   \n",
       "4                     User needs a new router setup.   \n",
       "5          User needs to move to a different office.   \n",
       "\n",
       "                               reason  \\\n",
       "0      Hardware compatibility expired   \n",
       "1                   Ran out of paper.   \n",
       "2      Windows has too much bloatware   \n",
       "3                                       \n",
       "4                                       \n",
       "5  Sandra keeps stealing my Snickers.   \n",
       "\n",
       "                                          cost_items         category  \\\n",
       "0  [{\"item_description\": \"\", \"hours_reduction\": 0...   software issue   \n",
       "1  [{\"item_description\": \"\", \"hours_reduction\": 0...            other   \n",
       "2  [{\"item_description\": \"\", \"hours_reduction\": 0...   software issue   \n",
       "3  [{\"item_description\": \"\", \"hours_reduction\": 0...   hardware issue   \n",
       "4  [{\"item_description\": \"\", \"hours_reduction\": 0...   hardware issue   \n",
       "5  [{\"item_description\": \"\", \"hours_reduction\": 0...  personnel issue   \n",
       "\n",
       "             timestamp  \n",
       "0  2025-04-01 17:20:14  \n",
       "1  2025-04-01 17:22:38  \n",
       "2  2025-04-01 17:25:22  \n",
       "3  2025-04-01 17:26:51  \n",
       "4  2025-04-01 17:28:32  \n",
       "5  2025-04-01 17:30:59  "
      ]
     },
     "metadata": {},
     "output_type": "display_data"
    },
    {
     "name": "stdout",
     "output_type": "stream",
     "text": [
      "\n",
      "Loading table: sqlite_sequence\n",
      "Preview of sqlite_sequence:\n"
     ]
    },
    {
     "data": {
      "text/html": [
       "<div>\n",
       "<style scoped>\n",
       "    .dataframe tbody tr th:only-of-type {\n",
       "        vertical-align: middle;\n",
       "    }\n",
       "\n",
       "    .dataframe tbody tr th {\n",
       "        vertical-align: top;\n",
       "    }\n",
       "\n",
       "    .dataframe thead th {\n",
       "        text-align: right;\n",
       "    }\n",
       "</style>\n",
       "<table border=\"1\" class=\"dataframe\">\n",
       "  <thead>\n",
       "    <tr style=\"text-align: right;\">\n",
       "      <th></th>\n",
       "      <th>name</th>\n",
       "      <th>seq</th>\n",
       "    </tr>\n",
       "  </thead>\n",
       "  <tbody>\n",
       "    <tr>\n",
       "      <th>0</th>\n",
       "      <td>change_requests</td>\n",
       "      <td>6</td>\n",
       "    </tr>\n",
       "  </tbody>\n",
       "</table>\n",
       "</div>"
      ],
      "text/plain": [
       "              name  seq\n",
       "0  change_requests    6"
      ]
     },
     "metadata": {},
     "output_type": "display_data"
    }
   ],
   "source": [
    "dataframes = {}\n",
    "\n",
    "for table in tables:\n",
    "    table_name = table[0]\n",
    "    print(f\"\\nLoading table: {table_name}\")\n",
    "    \n",
    "    df = pd.read_sql_query(f\"SELECT * FROM {table_name}\", conn)\n",
    "    dataframes[table_name] = df\n",
    "    \n",
    "    print(f\"Preview of {table_name}:\")\n",
    "    display(df)"
   ]
  },
  {
   "cell_type": "code",
   "execution_count": 12,
   "id": "4c30a70d",
   "metadata": {},
   "outputs": [
    {
     "data": {
      "text/html": [
       "<div>\n",
       "<style scoped>\n",
       "    .dataframe tbody tr th:only-of-type {\n",
       "        vertical-align: middle;\n",
       "    }\n",
       "\n",
       "    .dataframe tbody tr th {\n",
       "        vertical-align: top;\n",
       "    }\n",
       "\n",
       "    .dataframe thead th {\n",
       "        text-align: right;\n",
       "    }\n",
       "</style>\n",
       "<table border=\"1\" class=\"dataframe\">\n",
       "  <thead>\n",
       "    <tr style=\"text-align: right;\">\n",
       "      <th></th>\n",
       "      <th>id</th>\n",
       "    </tr>\n",
       "  </thead>\n",
       "  <tbody>\n",
       "    <tr>\n",
       "      <th>count</th>\n",
       "      <td>6.000000</td>\n",
       "    </tr>\n",
       "    <tr>\n",
       "      <th>mean</th>\n",
       "      <td>3.500000</td>\n",
       "    </tr>\n",
       "    <tr>\n",
       "      <th>std</th>\n",
       "      <td>1.870829</td>\n",
       "    </tr>\n",
       "    <tr>\n",
       "      <th>min</th>\n",
       "      <td>1.000000</td>\n",
       "    </tr>\n",
       "    <tr>\n",
       "      <th>25%</th>\n",
       "      <td>2.250000</td>\n",
       "    </tr>\n",
       "    <tr>\n",
       "      <th>50%</th>\n",
       "      <td>3.500000</td>\n",
       "    </tr>\n",
       "    <tr>\n",
       "      <th>75%</th>\n",
       "      <td>4.750000</td>\n",
       "    </tr>\n",
       "    <tr>\n",
       "      <th>max</th>\n",
       "      <td>6.000000</td>\n",
       "    </tr>\n",
       "  </tbody>\n",
       "</table>\n",
       "</div>"
      ],
      "text/plain": [
       "             id\n",
       "count  6.000000\n",
       "mean   3.500000\n",
       "std    1.870829\n",
       "min    1.000000\n",
       "25%    2.250000\n",
       "50%    3.500000\n",
       "75%    4.750000\n",
       "max    6.000000"
      ]
     },
     "metadata": {},
     "output_type": "display_data"
    }
   ],
   "source": [
    "if 'change_requests' in dataframes:\n",
    "    df_example = dataframes['change_requests']\n",
    "    display(df_example.describe())\n",
    "else:\n",
    "    print(\"Replace 'your_table_name' with a valid table name from the list above.\")"
   ]
  },
  {
   "cell_type": "code",
   "execution_count": 13,
   "id": "7c05afcf",
   "metadata": {},
   "outputs": [
    {
     "name": "stdout",
     "output_type": "stream",
     "text": [
      "Database connection closed.\n"
     ]
    }
   ],
   "source": [
    "conn.close()\n",
    "print(\"Database connection closed.\")"
   ]
  },
  {
   "cell_type": "markdown",
   "id": "a73041fe",
   "metadata": {},
   "source": [
    "## Notes\n",
    "- Ensure `change_requests.db` is in the same directory as this notebook, or update the file path in the `sqlite3.connect()` call.\n",
    "- The `dataframes` dictionary stores all tables as Pandas DataFrames, accessible by table name.\n",
    "- Use `display()` for nicer output in Jupyter; it’s better than `print()` for DataFrames."
   ]
  }
 ],
 "metadata": {
  "kernelspec": {
   "display_name": ".venv",
   "language": "python",
   "name": "python3"
  },
  "language_info": {
   "codemirror_mode": {
    "name": "ipython",
    "version": 3
   },
   "file_extension": ".py",
   "mimetype": "text/x-python",
   "name": "python",
   "nbconvert_exporter": "python",
   "pygments_lexer": "ipython3",
   "version": "3.12.3"
  }
 },
 "nbformat": 4,
 "nbformat_minor": 5
}
