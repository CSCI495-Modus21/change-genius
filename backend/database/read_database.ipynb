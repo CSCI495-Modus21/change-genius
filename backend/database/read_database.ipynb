{
 "cells": [
  {
   "cell_type": "markdown",
   "id": "0679a099",
   "metadata": {},
   "source": [
    "# Reading change_requests.db into Pandas DataFrames\n",
    "This notebook connects to the `change_requests.db` SQLite database, explores its tables, and loads them into Pandas DataFrames."
   ]
  },
  {
   "cell_type": "code",
   "execution_count": 1,
   "id": "3ec23670",
   "metadata": {},
   "outputs": [],
   "source": [
    "# Import required libraries\n",
    "import sqlite3\n",
    "import pandas as pd"
   ]
  },
  {
   "cell_type": "code",
   "execution_count": 2,
   "id": "c029d147",
   "metadata": {},
   "outputs": [],
   "source": [
    "# Connect to the SQLite database\n",
    "conn = sqlite3.connect('change_requests.db')\n",
    "\n",
    "# Create a cursor object\n",
    "cursor = conn.cursor()"
   ]
  },
  {
   "cell_type": "code",
   "execution_count": 3,
   "id": "3e1820ba",
   "metadata": {},
   "outputs": [
    {
     "name": "stdout",
     "output_type": "stream",
     "text": [
      "Tables in the database:\n",
      "change_requests\n",
      "sqlite_sequence\n"
     ]
    }
   ],
   "source": [
    "# Get all table names in the database\n",
    "cursor.execute(\"SELECT name FROM sqlite_master WHERE type='table';\")\n",
    "tables = cursor.fetchall()\n",
    "\n",
    "# Display the table names\n",
    "print(\"Tables in the database:\")\n",
    "for table in tables:\n",
    "    print(table[0])"
   ]
  },
  {
   "cell_type": "code",
   "execution_count": 4,
   "id": "e2e14b7c",
   "metadata": {},
   "outputs": [
    {
     "name": "stdout",
     "output_type": "stream",
     "text": [
      "\n",
      "Loading table: change_requests\n",
      "Preview of change_requests:\n"
     ]
    },
    {
     "data": {
      "text/html": [
       "<div>\n",
       "<style scoped>\n",
       "    .dataframe tbody tr th:only-of-type {\n",
       "        vertical-align: middle;\n",
       "    }\n",
       "\n",
       "    .dataframe tbody tr th {\n",
       "        vertical-align: top;\n",
       "    }\n",
       "\n",
       "    .dataframe thead th {\n",
       "        text-align: right;\n",
       "    }\n",
       "</style>\n",
       "<table border=\"1\" class=\"dataframe\">\n",
       "  <thead>\n",
       "    <tr style=\"text-align: right;\">\n",
       "      <th></th>\n",
       "      <th>id</th>\n",
       "      <th>project_name</th>\n",
       "      <th>change_number</th>\n",
       "      <th>requested_by</th>\n",
       "      <th>date_of_request</th>\n",
       "      <th>presented_to</th>\n",
       "      <th>change_name</th>\n",
       "      <th>description</th>\n",
       "      <th>reason</th>\n",
       "      <th>cost_items</th>\n",
       "      <th>category</th>\n",
       "      <th>timestamp</th>\n",
       "    </tr>\n",
       "  </thead>\n",
       "  <tbody>\n",
       "    <tr>\n",
       "      <th>0</th>\n",
       "      <td>1</td>\n",
       "      <td>Project 1</td>\n",
       "      <td>CR-1241</td>\n",
       "      <td>Josh Boquiren</td>\n",
       "      <td>2025-03-18</td>\n",
       "      <td>Capstone CofC 2025</td>\n",
       "      <td>MacBook display malfunction</td>\n",
       "      <td>MacBook display goes black when opened completely</td>\n",
       "      <td></td>\n",
       "      <td>[{\"item_description\": \"\", \"hours_reduction\": 0...</td>\n",
       "      <td>hardware issue</td>\n",
       "      <td>2025-03-18 14:51:20</td>\n",
       "    </tr>\n",
       "    <tr>\n",
       "      <th>1</th>\n",
       "      <td>2</td>\n",
       "      <td>Project 1</td>\n",
       "      <td>CR-1514</td>\n",
       "      <td>Josh Boquiren</td>\n",
       "      <td>2025-03-18</td>\n",
       "      <td>CofC Capstone 2015</td>\n",
       "      <td>MacBook display malfunction</td>\n",
       "      <td>MacBook display goes dark upon opening lid com...</td>\n",
       "      <td></td>\n",
       "      <td>[{\"item_description\": \"\", \"hours_reduction\": 0...</td>\n",
       "      <td>hardware issue</td>\n",
       "      <td>2025-03-18 15:02:04</td>\n",
       "    </tr>\n",
       "    <tr>\n",
       "      <th>2</th>\n",
       "      <td>3</td>\n",
       "      <td>Project 2</td>\n",
       "      <td>CR-1585</td>\n",
       "      <td>Josh Boquiren</td>\n",
       "      <td>2025-03-18</td>\n",
       "      <td>CofC Capstone 2025</td>\n",
       "      <td>People problems</td>\n",
       "      <td>Sandra from HR keeps stealing my lunch.</td>\n",
       "      <td>Because I hate her guts.</td>\n",
       "      <td>[{\"item_description\": \"\", \"hours_reduction\": 0...</td>\n",
       "      <td>other</td>\n",
       "      <td>2025-03-18 15:03:07</td>\n",
       "    </tr>\n",
       "    <tr>\n",
       "      <th>3</th>\n",
       "      <td>4</td>\n",
       "      <td>Project 3</td>\n",
       "      <td>CR-1153</td>\n",
       "      <td>Josh Boquiren</td>\n",
       "      <td>2025-03-18</td>\n",
       "      <td>CofC Capstone 2025</td>\n",
       "      <td>OS issue</td>\n",
       "      <td>Old laptop runs slow running Windows; would li...</td>\n",
       "      <td></td>\n",
       "      <td>[{\"item_description\": \"\", \"hours_reduction\": 0...</td>\n",
       "      <td>software issue</td>\n",
       "      <td>2025-03-18 15:04:20</td>\n",
       "    </tr>\n",
       "  </tbody>\n",
       "</table>\n",
       "</div>"
      ],
      "text/plain": [
       "   id project_name change_number   requested_by date_of_request  \\\n",
       "0   1    Project 1       CR-1241  Josh Boquiren      2025-03-18   \n",
       "1   2    Project 1       CR-1514  Josh Boquiren      2025-03-18   \n",
       "2   3    Project 2       CR-1585  Josh Boquiren      2025-03-18   \n",
       "3   4    Project 3       CR-1153  Josh Boquiren      2025-03-18   \n",
       "\n",
       "         presented_to                  change_name  \\\n",
       "0  Capstone CofC 2025  MacBook display malfunction   \n",
       "1  CofC Capstone 2015  MacBook display malfunction   \n",
       "2  CofC Capstone 2025              People problems   \n",
       "3  CofC Capstone 2025                     OS issue   \n",
       "\n",
       "                                         description  \\\n",
       "0  MacBook display goes black when opened completely   \n",
       "1  MacBook display goes dark upon opening lid com...   \n",
       "2            Sandra from HR keeps stealing my lunch.   \n",
       "3  Old laptop runs slow running Windows; would li...   \n",
       "\n",
       "                     reason  \\\n",
       "0                             \n",
       "1                             \n",
       "2  Because I hate her guts.   \n",
       "3                             \n",
       "\n",
       "                                          cost_items        category  \\\n",
       "0  [{\"item_description\": \"\", \"hours_reduction\": 0...  hardware issue   \n",
       "1  [{\"item_description\": \"\", \"hours_reduction\": 0...  hardware issue   \n",
       "2  [{\"item_description\": \"\", \"hours_reduction\": 0...           other   \n",
       "3  [{\"item_description\": \"\", \"hours_reduction\": 0...  software issue   \n",
       "\n",
       "             timestamp  \n",
       "0  2025-03-18 14:51:20  \n",
       "1  2025-03-18 15:02:04  \n",
       "2  2025-03-18 15:03:07  \n",
       "3  2025-03-18 15:04:20  "
      ]
     },
     "metadata": {},
     "output_type": "display_data"
    },
    {
     "name": "stdout",
     "output_type": "stream",
     "text": [
      "\n",
      "Loading table: sqlite_sequence\n",
      "Preview of sqlite_sequence:\n"
     ]
    },
    {
     "data": {
      "text/html": [
       "<div>\n",
       "<style scoped>\n",
       "    .dataframe tbody tr th:only-of-type {\n",
       "        vertical-align: middle;\n",
       "    }\n",
       "\n",
       "    .dataframe tbody tr th {\n",
       "        vertical-align: top;\n",
       "    }\n",
       "\n",
       "    .dataframe thead th {\n",
       "        text-align: right;\n",
       "    }\n",
       "</style>\n",
       "<table border=\"1\" class=\"dataframe\">\n",
       "  <thead>\n",
       "    <tr style=\"text-align: right;\">\n",
       "      <th></th>\n",
       "      <th>name</th>\n",
       "      <th>seq</th>\n",
       "    </tr>\n",
       "  </thead>\n",
       "  <tbody>\n",
       "    <tr>\n",
       "      <th>0</th>\n",
       "      <td>change_requests</td>\n",
       "      <td>4</td>\n",
       "    </tr>\n",
       "  </tbody>\n",
       "</table>\n",
       "</div>"
      ],
      "text/plain": [
       "              name  seq\n",
       "0  change_requests    4"
      ]
     },
     "metadata": {},
     "output_type": "display_data"
    }
   ],
   "source": [
    "# Load each table into a Pandas DataFrame and store in a dictionary\n",
    "dataframes = {}\n",
    "\n",
    "for table in tables:\n",
    "    table_name = table[0]\n",
    "    print(f\"\\nLoading table: {table_name}\")\n",
    "    \n",
    "    # Read the table into a Pandas DataFrame\n",
    "    df = pd.read_sql_query(f\"SELECT * FROM {table_name}\", conn)\n",
    "    dataframes[table_name] = df\n",
    "    \n",
    "    # Display the first few rows\n",
    "    print(f\"Preview of {table_name}:\")\n",
    "    display(df)"
   ]
  },
  {
   "cell_type": "code",
   "execution_count": 5,
   "id": "4c30a70d",
   "metadata": {},
   "outputs": [
    {
     "name": "stdout",
     "output_type": "stream",
     "text": [
      "Replace 'your_table_name' with a valid table name from the list above.\n"
     ]
    }
   ],
   "source": [
    "if 'your_table_name' in dataframes:\n",
    "    df_example = dataframes['your_table_name']\n",
    "    display(df_example.describe())\n",
    "else:\n",
    "    print(\"Replace 'your_table_name' with a valid table name from the list above.\")"
   ]
  },
  {
   "cell_type": "code",
   "execution_count": 6,
   "id": "7c05afcf",
   "metadata": {},
   "outputs": [
    {
     "name": "stdout",
     "output_type": "stream",
     "text": [
      "Database connection closed.\n"
     ]
    }
   ],
   "source": [
    "# Close the database connection\n",
    "conn.close()\n",
    "print(\"Database connection closed.\")"
   ]
  },
  {
   "cell_type": "markdown",
   "id": "a73041fe",
   "metadata": {},
   "source": [
    "## Notes\n",
    "- Ensure `change_requests.db` is in the same directory as this notebook, or update the file path in the `sqlite3.connect()` call.\n",
    "- The `dataframes` dictionary stores all tables as Pandas DataFrames, accessible by table name.\n",
    "- Use `display()` for nicer output in Jupyter; it’s better than `print()` for DataFrames."
   ]
  }
 ],
 "metadata": {
  "kernelspec": {
   "display_name": ".venv",
   "language": "python",
   "name": "python3"
  },
  "language_info": {
   "codemirror_mode": {
    "name": "ipython",
    "version": 3
   },
   "file_extension": ".py",
   "mimetype": "text/x-python",
   "name": "python",
   "nbconvert_exporter": "python",
   "pygments_lexer": "ipython3",
   "version": "3.12.3"
  }
 },
 "nbformat": 4,
 "nbformat_minor": 5
}
